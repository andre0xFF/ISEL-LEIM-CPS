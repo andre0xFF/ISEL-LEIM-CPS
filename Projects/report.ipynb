{
 "cells": [
  {
   "cell_type": "markdown",
   "metadata": {},
   "source": [
    "# Indice\n",
    "\n",
    "[Introducao](#Introducao)\n",
    "\n",
    "[Desenvolvimento](#Desenvolvimento)\n",
    "\n",
    "[Resultados](#Resultados)\n",
    "\n",
    "[Conclusoes](#Conclusoes)\n",
    "\n",
    "[Bibliografia](#Bibliografia)"
   ]
  },
  {
   "cell_type": "markdown",
   "metadata": {},
   "source": [
    "# Introducao\n",
    "\n",
    "\n",
    "A transmissao de sinal e' o processo de enviar e propagar um sinal analogico ou digital atraves de cabo, fibra optica, *wireless* ou outro meio de transmissao. Um exemplo de transmissao e' uma chamada telefonica ou o envio de um e-mail. Tipicamente a transmissao de informacao e' realizada de forma digital e veio substituir a transmissao de sinais analogicos, isto porque um sinal analogico nao pode ser limpo e sofre degradacao em longas distancias, um repetidor analogico pode amplificar o sinal mas ira tambem amplificar o seu ruido. Os sinais digitais podem ser reconstruidos com menor ruido e regenerado para o seu estado original. Estas sao algumas das razoes principais da transmissao de sinais digitais em grandes distancias por parte das empresas de telecomunicacoes.\n",
    "\n",
    "A conversao de analogico para digital e' realizada em tres etapas: A **amostragem** que tem como objectivo tornar o sinal discreto no dominio do tempo e nao envolve perda de informacao respeitando o teorema de *Nyquist* cuja frequencia do sinal amostrado tem de ser duas vezes superior a' do sinal original; A **quantificacao** que torna as amostras do sinal discretas na amplitude, transformando uma variavel continua num numero finito de valores; A **codificacao** que atribui a cada amplitude de pulso um codigo binario.\n",
    "\n",
    "O **controlo de erros** tem como objectivo a deteccao e correccao de erros, devido a estarmos perante um sinal digital este processo da-se ao nivel dos codigos binarios do sinal. Existem dois tipos de erros de bit: os erros devido aos efeitos do canal de natureza aleatoria; e os erros devido a inteferencias electromagneticas em rajada.\n",
    "Dependendo do tipo de erros existem estrategias diferenciadas para, no receptor, os detectar ou mesmo corrigir. Para que seja possivel realizar este processo e' necessario introduzir bits com informacao relativa ao controlo de erros.\n",
    "\n",
    "A **modelacao digital** e' o processo no qual a informacao transmitida numa comunicacao e' adicionada ao sinal electromagnetico. O transmissor adiciona a informacao numa onda especial de tal forma que podera ser recuparada no receptor atraves de um processo reverso chamado desmodulacao.\n",
    "\n",
    "O **canal** e' meramente o meio utilizado para transmitir o sinal do transmissor ao receptor. Pode ser um par de condutores, um cabo coaxial, uma banda de frequencias de radio, um feixe de luz, etc.\n",
    "\n",
    "![Envio e recepcao de informacao](https://preview.ibb.co/eKoeuw/Screenshot_from_2018_01_02_19_00_46.png)"
   ]
  },
  {
   "cell_type": "markdown",
   "metadata": {},
   "source": [
    "# Desenvolvimento\n",
    "\n",
    "A transmissao de sinal e' dividida em varios blocos, a quantizacao, codificacao, o controlo de erros, a modulacao digital e o envio pelo canal. No receptor da-se o mesmo processo de forma invertida em cada bloco. Assim foi construida um biblioteca para isolar o codigo de cada bloco em diferentes ficheiros.\n",
    "\n",
    "A **quantificacao** de um sinal e' o processo que converte um sinal amostrado, num sinal com valores tambem discretos em amplitude. Para quantificar um sinal aproxima-se cada valor atraves de um metodo que atribui os valores de quantificacao `vj`, para tal usam-se valores de decisao `tj` equidistantes que serve de fronteira entre valores de quantificacao.\n",
    "\n",
    "\n",
    "```python\n",
    "def uniform_midrise_quantizer(vmax, delta_q):\n",
    "    vj = np.arange(-1 * vmax + delta_q / 2, vmax, delta_q)\n",
    "    tj = np.arange(-1 * vmax + delta_q, vmax, delta_q)\n",
    "\n",
    "    return vj, tj\n",
    "```\n",
    "\n",
    "```python\n",
    "def quantize(signal, vmax, vj, tj):\n",
    "    tj = np.insert(tj, len(tj), vmax)\n",
    "\n",
    "    # majorate mq array as default value\n",
    "    mq = np.ones(len(signal)) * np.max(vj)\n",
    "\n",
    "    # majorate the index as default value\n",
    "    idx = np.ones(len(signal), dtype='uint32') * len(vj)\n",
    "\n",
    "    # loop every point in the signal and check if the point is lower or equal\n",
    "    # than any tj elements (decision values)\n",
    "    for i in range(len(signal)):\n",
    "        eval = signal[i] <= tj\n",
    "\n",
    "        # test whether any array element along a given axis evaluates to True\n",
    "        if np.any(eval):\n",
    "            xq_value = vj[eval][0]\n",
    "            mq[i] = xq_value\n",
    "\n",
    "            # get the index\n",
    "            k = np.nonzero(eval)[0][0]\n",
    "            idx[i] = k\n",
    "\n",
    "    return mq, idx\n",
    "```\n",
    "\n",
    "```python\n",
    "def dequantize(vj, indexes):\n",
    "    return vj[indexes]\n",
    "```\n"
   ]
  },
  {
   "cell_type": "markdown",
   "metadata": {},
   "source": [
    "> **Exercicio resolvido 3 da sebenta (parte 1, pag. 86)**"
   ]
  },
  {
   "cell_type": "code",
   "execution_count": 42,
   "metadata": {},
   "outputs": [
    {
     "name": "stdout",
     "output_type": "stream",
     "text": [
      "Valores de quantificacao:\n",
      "[-0.875 -0.625 -0.375 -0.125  0.125  0.375  0.625  0.875]\n",
      "\n",
      "Valores de decisao:\n",
      "[-0.75 -0.5  -0.25  0.    0.25  0.5   0.75]\n",
      "\n",
      "Quantizacao:\n",
      "[-0.125  0.875  0.875  0.125 -0.875 -0.875 -0.125  0.875]\n",
      "\n",
      "Dequantizacao:\n",
      "[-0.125  0.875  0.875  0.125 -0.875 -0.875 -0.125  0.875]\n",
      "\n"
     ]
    }
   ],
   "source": [
    "import numpy as np\n",
    "from lib import quantization\n",
    "\n",
    "# quantificar sinais ate 1v\n",
    "vmax = 1\n",
    "\n",
    "# 8 intervalos de quantificacao\n",
    "l = 8\n",
    "\n",
    "# intervalo de quantificacao\n",
    "delta_q = 2 * v / l\n",
    "\n",
    "vj, tj = quantization.uniform_midrise_quantizer(vmax, delta_q)\n",
    "\n",
    "print('Valores de quantificacao:\\n{}\\n'.format(vj))\n",
    "print('Valores de decisao:\\n{}\\n'.format(tj))\n",
    "\n",
    "n = np.arange(0, 8)\n",
    "m = np.sin(2 * np.pi * 1300 / 8000 * n)\n",
    "r = 3\n",
    "\n",
    "x1, idx = quantization.quantize(m, vmax, vj, tj)\n",
    "\n",
    "print('Quantizacao:\\n{}\\n'.format(x1))\n",
    "\n",
    "print('Dequantizacao:\\n{}\\n'.format(quantization.dequantize(vj, idx)))"
   ]
  },
  {
   "cell_type": "markdown",
   "metadata": {},
   "source": [
    "A **codificacao** e' a representacao binaria da sequencia de valores de um sinal, onde cada valor e' exprimido atraves de um codigo binario. A esta codificacao chama-se de modulacao por codigo de pulso (PCM - *Pulse Code Modulation*). Os indices obtidos no bloco de quantizacao sao convertidos para o seu respectivo valor binario com uma representacao a `r` bits.\n",
    "\n",
    "O numero de bits representados na codificacao de cada numero e' variavel em cada problema, entao assumiu-se que o tamanho maximo desta representacao pode ter um maximo de 32 bits. Para optimizar esta conversao foi utilizada a funcao [`unpackbits()`](https://docs.scipy.org/doc/numpy-1.13.0/reference/generated/numpy.unpackbits.html) do numpy que converte numeros inteiros de 8 bits. Assim foi criado um novo tipo de dados que inclui 4 parcelas de numeros a 8 bits, perfazendo os 32 bits definidos.\n",
    "\n",
    "```python\n",
    "def pcm_encode(idx: np.ndarray, r: np.int) -> np.ndarray:\n",
    "    # new data type to divide an int32 variable into 4 int8 variables\n",
    "    dt = np.dtype((np.int32, {'f0': (np.uint8, 3), 'f1': (np.uint8, 2), 'f2': (np.uint8, 1), 'f3': (np.uint8, 0)}))\n",
    "\n",
    "    # convert the vector into new data type\n",
    "    idx_uint8 = idx.view(dtype=dt)\n",
    "\n",
    "    # pack an numpy array with the 4 uint8 variables\n",
    "    idx_uint8 = np.array([idx_uint8['f0'], idx_uint8['f1'], idx_uint8['f2'], idx_uint8['f3']])\n",
    "\n",
    "    # transpose so we get each number by row\n",
    "    idx_uint8 = np.transpose(idx_uint8)\n",
    "\n",
    "    # convert to binary\n",
    "    idx_bin = np.unpackbits(idx_uint8, axis=1)\n",
    "\n",
    "    # slice into the desired number of bits\n",
    "    idx_bin = idx_bin[:, len(idx_bin[0]) - r:len(idx_bin[0])]\n",
    "\n",
    "    return idx_bin\n",
    "```\n",
    "\n",
    "```python\n",
    "def pcm_decode(bits: np.ndarray) -> np.ndarray:\n",
    "    return bits.dot(1 << np.arange(len(bits[0]) - 1, -1, -1))\n",
    "```"
   ]
  },
  {
   "cell_type": "code",
   "execution_count": 32,
   "metadata": {},
   "outputs": [
    {
     "name": "stdout",
     "output_type": "stream",
     "text": [
      "Indices de quantizacao:\n",
      "[3 7 7 4 0 0 3 7]\n",
      "\n",
      "Codificacao:\n",
      "[[0 1 1]\n",
      " [1 1 1]\n",
      " [1 1 1]\n",
      " [1 0 0]\n",
      " [0 0 0]\n",
      " [0 0 0]\n",
      " [0 1 1]\n",
      " [1 1 1]]\n",
      "\n",
      "A sequencia binaria a ser transmitida corresponde a concatenacao por ordem temporal dos codigos em binario:\n",
      "[0 1 1 1 1 1 1 1 1 1 0 0 0 0 0 0 0 0 0 1 1 1 1 1]\n",
      "\n",
      "Descodificacao de bits:\n",
      "[3 7 7 4 0 0 3 7]\n",
      "\n"
     ]
    }
   ],
   "source": [
    "from lib import codification\n",
    "\n",
    "x2 = codification.pcm_encode(idx, r)\n",
    "\n",
    "print('Indices de quantizacao:\\n{}\\n'.format(idx))\n",
    "print('Codificacao:\\n{}\\n'.format(x2))\n",
    "print('A sequencia binaria a ser transmitida corresponde a concatenacao ' \\\n",
    "      'por ordem temporal dos codigos em binario:\\n{}\\n'.format(np.ndarray.flatten(x2)))\n",
    "print('Descodificacao de bits:\\n{}\\n'.format(codification.pcm_decode(x2)))"
   ]
  },
  {
   "cell_type": "markdown",
   "metadata": {},
   "source": [
    "O **controlo de erros** atraves do codigo de Hamming consegue corrigir 1 bit ou detectar 2 bits errados na messagem. Este processo implica a adicao de bits de paridade a' mensagem para serem utilizados na correcao.\n",
    "\n",
    "A correcao e' realizada pelo calculo do sindroma da mensagem que corresponde ao indice da matrix `H` e ao indice da mensagem a ser corrigido.\n",
    "\n",
    "```python\n",
    "def hamming(x: np.ndarray, P: np.ndarray, n: np.int, r: np.int) -> np.ndarray:\n",
    "    G = np.hstack((np.identity(r, dtype='uint8'), P))\n",
    "\n",
    "    return np.dot(x, G) % 2\n",
    "```\n",
    "\n",
    "```python\n",
    "def correction(y: np.ndarray, P: np.ndarray) -> np.ndarray:\n",
    "    # form the H matrix\n",
    "    H = np.vstack((P, np.identity(len(P[0]))))\n",
    "\n",
    "    # calculate the S matrix\n",
    "    S = np.dot(y, H) % 2\n",
    "\n",
    "    # if S is == 0 then there's no error in that sub-message\n",
    "    # else find the row position where sub-message is equal to S\n",
    "    # then flip the bit in the sub-message at row position\n",
    "    for row in range(len(S)):\n",
    "        if np.all(S[row] == 0):\n",
    "            continue\n",
    "\n",
    "        col = np.argwhere(np.all(H == S[row], axis=1))[0][0]\n",
    "        y[row, col] = np.logical_not(y[row, col])\n",
    "\n",
    "    return y[:, 0:-1 * len(P[0])]\n",
    "```"
   ]
  },
  {
   "cell_type": "markdown",
   "metadata": {},
   "source": [
    "> **Exercicio resolvido em aula**"
   ]
  },
  {
   "cell_type": "code",
   "execution_count": 50,
   "metadata": {},
   "outputs": [
    {
     "name": "stdout",
     "output_type": "stream",
     "text": [
      "Mensagem sem bits de paridade:\n",
      "[0 1 1 1 0 0 1 0]\n",
      "\n",
      "Mensagem com bits de paridade:\n",
      "[0 1 1 1 1 0 0 0 0 1 0 1 0 1]\n",
      "\n",
      "Messagem com bits de paridade e erro:\n",
      "[0 1 1 1 0 0 0 0 0 1 0 1 0 1]\n",
      "\n",
      "Mensagem sem bits de paridade e corrigida:\n",
      "[0 1 1 1 0 0 1 0]\n",
      "\n"
     ]
    }
   ],
   "source": [
    "from lib import error_control\n",
    "\n",
    "# mensagem\n",
    "m = np.array([[0, 1, 1, 1], [0, 0, 1, 0]])\n",
    "\n",
    "# matriz paridade\n",
    "p = np.array([[0, 1, 1], [1, 1, 0], [1, 0, 1], [1, 1, 1]])\n",
    "\n",
    "n = 7\n",
    "k = 4\n",
    "\n",
    "x4 = error_control.hamming(m, p, n, k)\n",
    "\n",
    "print('Mensagem sem bits de paridade:\\n{}\\n'.format(np.ndarray.flatten(m)))\n",
    "print('Mensagem com bits de paridade:\\n{}\\n'.format(np.ndarray.flatten(x4)))\n",
    "\n",
    "x4[0][4] = np.logical_not(x4[0][4])\n",
    "\n",
    "print('Messagem com bits de paridade e erro:\\n{}\\n'.format(np.ndarray.flatten(x4)))\n",
    "print('Mensagem sem bits de paridade e corrigida:\\n{}\\n'.format(np.ndarray.flatten(error_control.correction(x4, p))))"
   ]
  },
  {
   "cell_type": "markdown",
   "metadata": {},
   "source": [
    "A maioria dos sinais, da forma como sao fornecidos pelo transmissor, nao podem ser enviados directamente atraves dos canais de transmissao. Consequentemente e' necessario modificar esse sinal atraves de uma onda electromagnetica portadora, cujas propriedades sao mais convenientes aos meios de transmissao - **modulacao digital**. O QAM e' o processo de variacao de amplitude de uma sinusoide que e' criada atraves de uma constelacao onde cada quadrante foi codificado num conjunto de 4 bits (16-QAM) para cada simbolo, onde cada simbolo e' constituido por `p` pontos que representam a sinusoide."
   ]
  },
  {
   "cell_type": "code",
   "execution_count": 58,
   "metadata": {},
   "outputs": [
    {
     "data": {
      "image/png": "[encoded data removed]",
      "text/plain": [
       "<matplotlib.figure.Figure at 0x7fde4eeb9fd0>"
      ]
     },
     "metadata": {},
     "output_type": "display_data"
    }
   ],
   "source": [
    "from lab04 import lab04\n",
    "\n",
    "lab04.constellation_configuration()"
   ]
  },
  {
   "cell_type": "markdown",
   "metadata": {},
   "source": [
    "![](https://latex.codecogs.com/gif.latex?simbolo%20%3D%20%5Ctheta_1%20%5Ccdot%20%5Csqrt%7B%5Cfrac%7B2%7D%7Bp%7D%7D%20%5Ccdot%20cos%282%20%5Cpi%20%5Ccdot%20n%20%5Ccdot%20%5Cfrac%7B1%7D%7Bp%7D%29%20&plus;%20%5Ctheta_2%20%5Ccdot%20%5Csqrt%7B%5Cfrac%7B2%7D%7Bp%7D%7D%20%5Ccdot%20sin%282%20%5Cpi%20%5Ccdot%20n%20%5Ccdot%20%5Cfrac%7B1%7D%7Bp%7D%29)"
   ]
  },
  {
   "cell_type": "markdown",
   "metadata": {},
   "source": [
    "```python\n",
    "def qam_encode(x: np.ndarray, p: np.int) -> (np.ndarray, np.ndarray, np.int):\n",
    "    coords, new_bits = constellation_encode(x)\n",
    "    n = np.reshape(np.arange(p), (1, p))\n",
    "    symbols = np.zeros((len(coords), np.int(len(coords[0]) / 2 * p)), dtype=np.float32)\n",
    "\n",
    "    for i in range(0, len(coords[0]), 2):\n",
    "        col_x = np.reshape(coords[:, i + 0], (len(coords), 1))\n",
    "        col_y = np.reshape(coords[:, i + 1], (len(coords), 1))\n",
    "\n",
    "        j = np.int(p / 2 * i)\n",
    "        symbols[:, j:j + p] = col_x * np.sqrt(2 / p) * np.cos(2 * np.pi * n * 1 / p) +\\\n",
    "                              col_y * np.sqrt(2 / p) * np.sin(2 * np.pi * n * 1 / p)\n",
    "\n",
    "    return symbols, coords, new_bits\n",
    "    \n",
    "def constellation_encode(x: np.ndarray) -> (np.ndarray, np.int):\n",
    "    # the constellation uses 4 bits and converts them to coordinates\n",
    "    # the received matrix may not have a column length multiple of 4\n",
    "    # so we need to add them now and remove them in the decode function\n",
    "    multiple = len(x[0]) % 4\n",
    "    new_bits = 0\n",
    "\n",
    "    if multiple != 0:\n",
    "        new_bits = 4 - multiple\n",
    "        x = np.concatenate((x, np.zeros((len(x), new_bits), dtype=np.int8)), axis=1)\n",
    "\n",
    "    coords = np.zeros((len(x), np.int(len(x[0]) / 2)), dtype=np.int8)\n",
    "\n",
    "    # based on the constellation codification calculate the signal and\n",
    "    # the (x, y) coordinate\n",
    "    def signal_calc(s):\n",
    "        return -2 * s + 1\n",
    "\n",
    "    def coord_calc(c):\n",
    "        return 2 * c + 1\n",
    "\n",
    "    for i in range(0, len(coords[0]), 2):\n",
    "        # calc all signals of x and y\n",
    "        signal = signal_calc(x[:, i * 2:i * 2 + 2])\n",
    "\n",
    "        # calc all values of coord x and y\n",
    "        coord = coord_calc(x[:, i * 2 + 2:i * 2 + 4])\n",
    "\n",
    "        coords[:, i:i + 2] = np.transpose(np.array([signal[:, 0] * coord[:, 1], signal[:, 1] * coord[:, 0]]))\n",
    "\n",
    "    return coords, new_bits\n",
    "```\n",
    "\n",
    "```python\n",
    "def qam_decode(y: np.ndarray, p: np.int, rm_bits: np.int) -> (np.ndarray, np.ndarray):\n",
    "    n = np.reshape(np.arange(p), (1, p))\n",
    "    c1 = np.sqrt(2 / p) * np.cos(2 * np.pi * n * 1 / p)\n",
    "    c2 = np.sqrt(2 / p) * np.sin(2 * np.pi * n * 1 / p)\n",
    "    coords_r = np.zeros((len(y), np.int(len(y[0]) * 2 / p)))\n",
    "    coords_p = np.zeros((len(y), np.int(len(y[0]) * 2 / p)))\n",
    "\n",
    "    def cell_round(c):\n",
    "        return 2 * np.ceil(c / 2) - 1\n",
    "\n",
    "    for i in range(0, len(coords_r[0]), 2):\n",
    "        j = np.int(p / 2 * i)\n",
    "        symbols = y[:, j:j + p]\n",
    "\n",
    "        phi_x = np.sum(symbols * c1, axis=1)\n",
    "        phi_y = np.sum(symbols * c2, axis=1)\n",
    "\n",
    "        coords_p[:, i + 0] = phi_x\n",
    "        coords_p[:, i + 1] = phi_y\n",
    "        coords_r[:, i + 0] = cell_round(phi_x)\n",
    "        coords_r[:, i + 1] = cell_round(phi_y)\n",
    "\n",
    "    coords_r = np.clip(coords_r, -3, 3)\n",
    "\n",
    "    return constellation_decode(coords_r, rm_bits), coords_r, coords_p\n",
    "    \n",
    "def constellation_decode(y: np.ndarray, rm_bits: np.int) -> np.ndarray:\n",
    "    bits = np.zeros((len(y), np.int(len(y[0]) * 2)), dtype=np.int8)\n",
    "\n",
    "    for i in range(0, len(y[0]), 2):\n",
    "        signal_x = (y[:, i + 0] < 0) * 1\n",
    "        signal_y = (y[:, i + 1] < 0) * 1\n",
    "\n",
    "        bit_x = np.array((np.abs(y[:, i + 0]) - 1) / 2, dtype=np.uint8)\n",
    "        bit_y = np.array((np.abs(y[:, i + 1]) - 1) / 2, dtype=np.uint8)\n",
    "\n",
    "        j = i * 2\n",
    "        bits[:, j:j + 4] = np.transpose(np.array([signal_x, signal_y, bit_y, bit_x]))\n",
    "\n",
    "    if rm_bits != 0:\n",
    "        return bits[:, 0:-1 * rm_bits]\n",
    "\n",
    "    return bits\n",
    "```"
   ]
  },
  {
   "cell_type": "code",
   "execution_count": null,
   "metadata": {},
   "outputs": [],
   "source": [
    "O **canal** e a simulacao da transmissao num meio fisico com erro AWGN"
   ]
  },
  {
   "cell_type": "markdown",
   "metadata": {},
   "source": [
    "```python\n",
    "def send_with_awgn(x: np.ndarray, sigma: np.float) -> np.ndarray:\n",
    "    vector = matrix_to_vector(x)\n",
    "\n",
    "    # Generate error/noise to simulate channel communication\n",
    "    y = vector + sigma * np.random.randn(len(vector))\n",
    "\n",
    "    return vector_to_matrix(y, len(x[0]))\n",
    "```"
   ]
  },
  {
   "cell_type": "markdown",
   "metadata": {},
   "source": [
    "# Resultados\n",
    "\n",
    "* Resultados produzidos com a simulacao\n",
    "\n",
    "* Correr o lab04 passo a passo, analisar e comentar os resultados"
   ]
  },
  {
   "cell_type": "code",
   "execution_count": 14,
   "metadata": {},
   "outputs": [],
   "source": []
  },
  {
   "cell_type": "markdown",
   "metadata": {},
   "source": [
    "# Conclusoes\n",
    "\n",
    "* O que correu bem\n",
    "* Optimizacoes possiveis\n",
    "* Alteracoes futuras\n",
    "* Casos praticos\n",
    "* Simulacao virtual vs simulacao fisica"
   ]
  },
  {
   "cell_type": "markdown",
   "metadata": {},
   "source": [
    "# Bibliografia\n",
    "\n",
    "* Sebenta CPS?"
   ]
  }
 ],
 "metadata": {
  "kernelspec": {
   "display_name": "Python 3",
   "language": "python",
   "name": "python3"
  },
  "language_info": {
   "codemirror_mode": {
    "name": "ipython",
    "version": 3
   },
   "file_extension": ".py",
   "mimetype": "text/x-python",
   "name": "python",
   "nbconvert_exporter": "python",
   "pygments_lexer": "ipython3",
   "version": "3.6.3"
  }
 },
 "nbformat": 4,
 "nbformat_minor": 1
}
