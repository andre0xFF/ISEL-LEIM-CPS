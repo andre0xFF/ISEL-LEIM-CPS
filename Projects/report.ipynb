{
 "cells": [
  {
   "cell_type": "markdown",
   "metadata": {},
   "source": [
    "# Indice\n",
    "\n",
    "[Introducao](#Introducao)\n",
    "\n",
    "[Desenvolvimento](#Desenvolvimento)\n",
    "\n",
    "[Resultados](#Resultados)\n",
    "\n",
    "[Conclusoes](#Conclusoes)\n",
    "\n",
    "[Bibliografia](#Bibliografia)"
   ]
  },
  {
   "cell_type": "markdown",
   "metadata": {},
   "source": [
    "# Introducao\n",
    "\n",
    "\n",
    "A transmissao de sinal e' o processo de enviar e propagar um sinal analogico ou digital atraves de cabo, fibra optica, *wireless* ou outro meio de transmissao. Um exemplo de transmissao e' uma chamada telefonica ou o envio de um e-mail. Tipicamente a transmissao de informacao e' realizada de forma digital e veio substituir a transmissao de sinais analogicos, isto porque um sinal analogico nao pode ser limpo e sofre degradacao em longas distancias, um repetidor analogico pode amplificar o sinal mas ira tambem amplificar o seu ruido. Os sinais digitais podem ser reconstruidos com menor ruido e regenerado para o seu estado original. Estas sao algumas das razoes principais da transmissao de sinais digitais em grandes distancias por parte das empresas de telecomunicacoes.\n",
    "\n",
    "A conversao de analogico para digital e' realizada em tres etapas: A **amostragem** que tem como objectivo tornar o sinal discreto no dominio do tempo e nao envolve perda de informacao respeitando o teorema de *Nyquist* cuja frequencia do sinal amostrado tem de ser duas vezes superior a' do sinal original; A **quantificacao** que torna as amostras do sinal discretas na amplitude, transformando uma variavel continua num numero finito de valores; A **codificacao** que atribui a cada amplitude de pulso um codigo binario.\n",
    "\n",
    "O **controlo de erros** tem como objectivo a deteccao e correccao de erros, devido a estarmos perante um sinal digital este processo da-se ao nivel dos codigos binarios do sinal. Existem dois tipos de erros de bit: os erros devido aos efeitos do canal de natureza aleatoria; e os erros devido a inteferencias electromagneticas em rajada.\n",
    "Dependendo do tipo de erros existem estrategias diferenciadas para, no receptor, os detectar ou mesmo corrigir. Para que seja possivel realizar este processo e' necessario introduzir bits com informacao relativa ao controlo de erros.\n",
    "\n",
    "A **modelacao digital** e' o processo no qual a informacao transmitida numa comunicacao e' adicionada ao sinal electromagnetico. O transmissor adiciona a informacao numa onda especial de tal forma que podera ser recuparada no receptor atraves de um processo reverso chamado desmodulacao.\n",
    "\n",
    "O **canal** e' meramente o meio utilizado para transmitir o sinal do transmissor ao receptor. Pode ser um par de condutores, um cabo coaxial, uma banda de frequencias de radio, um feixe de luz, etc.\n",
    "\n",
    "![Envio e recepcao de informacao](https://preview.ibb.co/eKoeuw/Screenshot_from_2018_01_02_19_00_46.png)"
   ]
  },
  {
   "cell_type": "markdown",
   "metadata": {},
   "source": [
    "# Desenvolvimento\n",
    "\n",
    "* Solucoes implementadas\n",
    "\n",
    "* Algoritmos da biblioteca com exemplos individuais pequenos"
   ]
  },
  {
   "cell_type": "markdown",
   "metadata": {},
   "source": [
    "# Resultados\n",
    "\n",
    "* Resultados produzidos com a simulacao\n",
    "\n",
    "* Correr o lab04 passo a passo, analisar e comentar os resultados"
   ]
  },
  {
   "cell_type": "markdown",
   "metadata": {},
   "source": [
    "# Conclusoes\n",
    "\n",
    "* O que correu bem\n",
    "* Optimizacoes possiveis\n",
    "* Alteracoes futuras\n",
    "* Casos praticos\n",
    "* Simulacao virtual vs simulacao fisica"
   ]
  },
  {
   "cell_type": "markdown",
   "metadata": {},
   "source": [
    "# Bibliografia\n",
    "\n",
    "* Sebenta CPS?"
   ]
  },
  {
   "cell_type": "code",
   "execution_count": 5,
   "metadata": {},
   "outputs": [],
   "source": [
    "import lab04.lab04 as lab04"
   ]
  }
 ],
 "metadata": {
  "kernelspec": {
   "display_name": "Python 3",
   "language": "python",
   "name": "python3"
  },
  "language_info": {
   "codemirror_mode": {
    "name": "ipython",
    "version": 3
   },
   "file_extension": ".py",
   "mimetype": "text/x-python",
   "name": "python",
   "nbconvert_exporter": "python",
   "pygments_lexer": "ipython3",
   "version": "3.6.3"
  }
 },
 "nbformat": 4,
 "nbformat_minor": 1
}
